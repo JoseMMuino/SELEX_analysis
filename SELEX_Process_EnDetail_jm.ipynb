{
 "cells": [
  {
   "cell_type": "markdown",
   "metadata": {},
   "source": [
    "# Resources\n",
    "\n",
    "[SELEX Example][selex example]: Motif Discovery from SELEX-Seq data. \n",
    "\n",
    "<div class=\"alert alert-block alert-info\"><b>Credit:</b> This notebook is adapted from the SELEX example indicated above. </div>\n",
    "\n",
    "[SELEX Manual][selex manual]\n",
    "\n",
    "[Paper introducing SELEX][selex paper]: Cofactor binding evokes latent differences in DNA binding specificity between Hox proteins, Slattery et al., 2011\n",
    "\n",
    "[selex example]: https://bioconductor.org/packages/release/bioc/vignettes/SELEX/inst/doc/SELEX.pdf\n",
    "[selex manual]: https://bioconductor.org/packages/release/bioc/manuals/SELEX/man/SELEX.pdf\n",
    "[selex paper]: https://www.ncbi.nlm.nih.gov/pmc/articles/PMC3319069/"
   ]
  },
  {
   "cell_type": "markdown",
   "metadata": {},
   "source": [
    "# Import libraries\n",
    "\n",
    "Use either import statement - the one above shows no success statements and no warnings, which are typically not required. If something does not work, out-comment the first line and un-comment the second to see if all required packages and the packages they in turn depend on are imported without any problems."
   ]
  },
  {
   "cell_type": "code",
   "execution_count": 1,
   "metadata": {},
   "outputs": [],
   "source": [
    "setwd(\"/fast/AG_Ohler/jmuino/FlowerDevGroup/Peilin/Claudia/SELEX-seqAnalysis\")#write your workinfdirectory hear\n",
    "suppressMessages(library(SELEX))\n"
   ]
  },
  {
   "cell_type": "markdown",
   "metadata": {},
   "source": [
    "<div class=\"alert alert-block alert-success\"> \n",
    "    \n",
    "# How to use this notebook\n",
    "    \n",
    "This notebook can perform all the steps required for data analysis of SELEX-seq data with the SELEX package. To use it, follow these steps: \n",
    "\n",
    "### 1. Input variables\n",
    "All file paths, file names and as well as information such as the variable length need to be **given as input variables** in the section indicated below. At the very end of this notebook there is a blue box giving detailed information on how to download and save data sets from the Gene Expression Omnibus, how to interpret the FASTQ files and how to save time by saving the metadata in an annotation file.\n",
    "    \n",
    "### 2. Setting up SELEX\n",
    "The next steps require **no input - just run the cells**. Appropriate settings are set and the data is imported properly such that the SELEX package 'knows' how to deal with and address the data you have provided. \n",
    "    \n",
    "### 3. Analysis\n",
    "This step requires one input - indicate the round that is to be compared to R0 for the calculation of the information gain and affinities.\n",
    "    \n",
    "</div>\n",
    "\n",
    "<div class=\"alert alert-block alert-warning\"> \n",
    "\n",
    "In the following, all sections requiring input are highlighted in yellow.\n",
    "    \n",
    "</div>"
   ]
  },
  {
   "cell_type": "markdown",
   "metadata": {},
   "source": [
    "<div class=\"alert alert-block alert-warning\">\n",
    "\n",
    "# 1. Input Variables\n",
    "    \n",
    "### Protein Name & Round names & Sample Name\n",
    "Indicate the name of the protein being analyzed, as a string. We will use this string to name samples and output data. Likewise, indicate the name of the sample sequences the protein is analyzed with.\n",
    "\n",
    "</div>"
   ]
  },
  {
   "cell_type": "code",
   "execution_count": 2,
   "metadata": {},
   "outputs": [],
   "source": [
    "pname = 'HDG3'\n",
    "sname = 'RandomSequences'"
   ]
  },
  {
   "cell_type": "markdown",
   "metadata": {},
   "source": [
    "<div class=\"alert alert-block alert-warning\">\n",
    "\n",
    "### File paths\n",
    "    \n",
    "</div>"
   ]
  },
  {
   "cell_type": "code",
   "execution_count": 3,
   "metadata": {},
   "outputs": [],
   "source": [
    "r0_filepath = '/fast/AG_Ohler/jmuino/FlowerDevGroup/Peilin/parSelex-seq/ProcessedFASTA/FUL-FUL_R0_FASTERIS.fasta'\n",
    "#r1_filepath = '/home/shk/Schreibtisch/shk_jose/data/SEP3-AGe1C1-R1.fastq'\n",
    "#r2_filepath = '/home/shk/Schreibtisch/shk_jose/data/SEP3-AGe1C1-R2.fastq'\n",
    "r3_filepath = '/fast/AG_Ohler/jmuino/FlowerDevGroup/Peilin/parSelex-seq/ProcessedFASTA/HDG3-FLAG_R3_FASTERISAugust.fasta'"
   ]
  },
  {
   "cell_type": "markdown",
   "metadata": {},
   "source": [
    "<div class=\"alert alert-block alert-warning\">\n",
    "\n",
    "### Variable length, Left and Right Barcodes\n",
    "This is the length of the variable region of the nucleic acid snippets in the sample. If sequences are purely random with no defined left or right barcodes, the length of the variable region is equal to the length of the sequence.\n",
    "    \n",
    "</div>"
   ]
  },
  {
   "cell_type": "code",
   "execution_count": 4,
   "metadata": {},
   "outputs": [],
   "source": [
    "variable_length = 20\n",
    "left_bc = ''\n",
    "right_bc = ''"
   ]
  },
  {
   "cell_type": "markdown",
   "metadata": {},
   "source": [
    "# 2.a) Required settings for SELEX"
   ]
  },
  {
   "cell_type": "code",
   "execution_count": 5,
   "metadata": {},
   "outputs": [],
   "source": [
    "options(java.parameters=\"-Xmx2500M\") # Set maximum memory usage limit"
   ]
  },
  {
   "cell_type": "markdown",
   "metadata": {},
   "source": [
    "The working directory contains the temporary files. The folder is created if it does not exist, everything in it is automatically kept track of and does not need to be read or addressed by a person. Once calculation is complete, the contents or even the whole folder can safely be deleted. \n",
    "\n",
    "Note: Never create a backup of this folder (i.e. with Git), it is huge and upload will take forever. "
   ]
  },
  {
   "cell_type": "code",
   "execution_count": 6,
   "metadata": {},
   "outputs": [],
   "source": [
    "workDir = \"./cache/\" # Specify the temporal working directory"
   ]
  },
  {
   "cell_type": "code",
   "execution_count": 7,
   "metadata": {},
   "outputs": [],
   "source": [
    "selex.config(workingDir=workDir, maxThreadNumber=4) # Configure Selex"
   ]
  },
  {
   "cell_type": "markdown",
   "metadata": {},
   "source": [
    "If rJava is propery initialized and installed, the method jvmStatus should show you the current memory usage of the Java Virtual Machine. You can check this if you run into any trouble."
   ]
  },
  {
   "cell_type": "code",
   "execution_count": 8,
   "metadata": {},
   "outputs": [],
   "source": [
    "#selex.jvmStatus()"
   ]
  },
  {
   "cell_type": "markdown",
   "metadata": {},
   "source": [
    "# 2.b) Import your own data\n",
    "\n",
    "Detailed instructions for downloading data that is available on the GEO are given below, in the last cell in this notebook."
   ]
  },
  {
   "cell_type": "markdown",
   "metadata": {},
   "source": [
    "#### Define metadata\n",
    "\n",
    "This step is required to save metadata such as the filepath, barcodes and length of the variable region. This information is necessary for SELEX to interpret the data in subsequent steps. "
   ]
  },
  {
   "cell_type": "code",
   "execution_count": 9,
   "metadata": {},
   "outputs": [],
   "source": [
    "sample_r0 = selex.defineSample(seqName = paste(pname, 'R0', sep='-'), seqFile = r0_filepath, \n",
    "                               sampleName = paste('R0', sname, sep='.'), round = 0, varLength = variable_length, \n",
    "                               leftBarcode = left_bc, rightBarcode = right_bc)\n",
    "\n",
    "#sample_r1 = selex.defineSample(seqName = paste(pname, 'R1', sep='-'), seqFile = r1_filepath, \n",
    "                               sampleName = paste('R1', sname, sep='.'), round = 1, varLength = variable_length, \n",
    "                               leftBarcode = left_bc, rightBarcode = right_bc)\n",
    "\n",
    "#sample_r2 = selex.defineSample(seqName = paste(pname, 'R2', sep='-'), seqFile = r2_filepath, \n",
    "                               sampleName = paste('R2', sname, sep='.'), round = 2, varLength = variable_length, \n",
    "                               leftBarcode = left_bc, rightBarcode = right_bc)"
   ]
  },
  {
   "cell_type": "markdown",
   "metadata": {},
   "source": [
    "Comment out the following cell if there is no third round data set:"
   ]
  },
  {
   "cell_type": "code",
   "execution_count": 10,
   "metadata": {},
   "outputs": [],
   "source": [
    "sample_r3 = selex.defineSample(seqName = paste(pname, 'R3', sep='-'), seqFile = r3_filepath, \n",
    "                               sampleName = paste('R3', sname, sep='.'), round = 3, varLength = variable_length, \n",
    "                               leftBarcode = left_bc, rightBarcode = right_bc)"
   ]
  },
  {
   "cell_type": "markdown",
   "metadata": {},
   "source": [
    "#### Save metadata (i.e. annotation) for later\n",
    "\n",
    "Print the name to check formatting. (Folders need to be separated by slashes (/) and suffixes need to be preceded by points.)"
   ]
  },
  {
   "cell_type": "code",
   "execution_count": 11,
   "metadata": {},
   "outputs": [
    {
     "data": {
      "text/html": [
       "'/home/shk/Schreibtisch/shk_jose/data/SEP3-AGe1C1.xml'"
      ],
      "text/latex": [
       "'/home/shk/Schreibtisch/shk\\_jose/data/SEP3-AGe1C1.xml'"
      ],
      "text/markdown": [
       "'/home/shk/Schreibtisch/shk_jose/data/SEP3-AGe1C1.xml'"
      ],
      "text/plain": [
       "[1] \"/home/shk/Schreibtisch/shk_jose/data/SEP3-AGe1C1.xml\""
      ]
     },
     "metadata": {},
     "output_type": "display_data"
    }
   ],
   "source": [
    "export_name = paste(paste('', pname, sep=''), 'xml', sep='.')\n",
    "\n",
    "export_name"
   ]
  },
  {
   "cell_type": "code",
   "execution_count": 12,
   "metadata": {},
   "outputs": [],
   "source": [
    "selex.saveAnnotation(export_name)"
   ]
  },
  {
   "cell_type": "markdown",
   "metadata": {},
   "source": [
    "#### Import the samples"
   ]
  },
  {
   "cell_type": "code",
   "execution_count": 13,
   "metadata": {},
   "outputs": [],
   "source": [
    "r0 = selex.sample(seqName = paste(pname, 'R0', sep='-'), sampleName = paste('R0', sname, sep='.'), round = 0)\n",
    "#r1 = selex.sample(seqName = paste(pname, 'R1', sep='-'), sampleName = paste('R1', sname, sep='.'), round = 1)\n",
    "#r2 = selex.sample(seqName = paste(pname, 'R2', sep='-'), sampleName = paste('R2', sname, sep='.'), round = 2)"
   ]
  },
  {
   "cell_type": "markdown",
   "metadata": {},
   "source": [
    "Comment out the following cell if there is no third round data set:"
   ]
  },
  {
   "cell_type": "code",
   "execution_count": 14,
   "metadata": {},
   "outputs": [],
   "source": [
    "#r3 = selex.sample(seqName = paste(pname, 'R3', sep='-'), sampleName = paste('R3', sname, sep='.'), round = 3)"
   ]
  },
  {
   "cell_type": "markdown",
   "metadata": {},
   "source": [
    "#### Split the first sample into a training and a testing part\n",
    "\n",
    "Default ratio is 0.5 (i.e. half training and half testing data). "
   ]
  },
  {
   "cell_type": "code",
   "execution_count": 15,
   "metadata": {},
   "outputs": [],
   "source": [
    "r0.split = selex.split(r0, ratio=c(0.5,0.5))"
   ]
  },
  {
   "cell_type": "code",
   "execution_count": 16,
   "metadata": {},
   "outputs": [
    {
     "data": {
      "text/html": [
       "<style>\n",
       ".list-inline {list-style: none; margin:0; padding: 0}\n",
       ".list-inline>li {display: inline-block}\n",
       ".list-inline>li:not(:last-child)::after {content: \"\\00b7\"; padding: 0 .5ex}\n",
       "</style>\n",
       "<ol class=list-inline><li>'test'</li><li>'train'</li><li>'info'</li></ol>\n"
      ],
      "text/latex": [
       "\\begin{enumerate*}\n",
       "\\item 'test'\n",
       "\\item 'train'\n",
       "\\item 'info'\n",
       "\\end{enumerate*}\n"
      ],
      "text/markdown": [
       "1. 'test'\n",
       "2. 'train'\n",
       "3. 'info'\n",
       "\n",
       "\n"
      ],
      "text/plain": [
       "[1] \"test\"  \"train\" \"info\" "
      ]
     },
     "metadata": {},
     "output_type": "display_data"
    }
   ],
   "source": [
    "names(r0.split)"
   ]
  },
  {
   "cell_type": "code",
   "execution_count": 17,
   "metadata": {},
   "outputs": [
    {
     "data": {
      "text/plain": [
       "[1] \"Java-Object{config.ExperimentReference@71e9ddb4}\""
      ]
     },
     "metadata": {},
     "output_type": "display_data"
    }
   ],
   "source": [
    "r0.split$test"
   ]
  },
  {
   "cell_type": "markdown",
   "metadata": {},
   "source": [
    "#### View imported data"
   ]
  },
  {
   "cell_type": "code",
   "execution_count": 18,
   "metadata": {},
   "outputs": [
    {
     "data": {
      "text/html": [
       "<table>\n",
       "<caption>A data.frame: 6 × 8</caption>\n",
       "<thead>\n",
       "\t<tr><th></th><th scope=col>seqName</th><th scope=col>sampleName</th><th scope=col>rounds</th><th scope=col>leftBarcode</th><th scope=col>rightBarcode</th><th scope=col>leftFlank</th><th scope=col>rightFlank</th><th scope=col>seqFile</th></tr>\n",
       "\t<tr><th></th><th scope=col>&lt;chr&gt;</th><th scope=col>&lt;chr&gt;</th><th scope=col>&lt;int&gt;</th><th scope=col>&lt;chr&gt;</th><th scope=col>&lt;chr&gt;</th><th scope=col>&lt;chr&gt;</th><th scope=col>&lt;chr&gt;</th><th scope=col>&lt;chr&gt;</th></tr>\n",
       "</thead>\n",
       "<tbody>\n",
       "\t<tr><th scope=row>1</th><td>SEP3-AGe1C1-R0        </td><td>R0.RandomSequences        </td><td>0</td><td></td><td></td><td></td><td></td><td>/home/shk/Schreibtisch/shk_jose/data/SEP3-AGe1C1-R0.fastq                                 </td></tr>\n",
       "\t<tr><th scope=row>6</th><td>SEP3-AGe1C1-R0.split.1</td><td>R0.RandomSequences.split.1</td><td>0</td><td></td><td></td><td></td><td></td><td>/home/shk/Schreibtisch/shk_jose/./cache//SEP3-AGe1C1-R0.R0.RandomSequences.0_split//0.part</td></tr>\n",
       "\t<tr><th scope=row>5</th><td>SEP3-AGe1C1-R0.split.2</td><td>R0.RandomSequences.split.2</td><td>0</td><td></td><td></td><td></td><td></td><td>/home/shk/Schreibtisch/shk_jose/./cache//SEP3-AGe1C1-R0.R0.RandomSequences.0_split//1.part</td></tr>\n",
       "\t<tr><th scope=row>4</th><td>SEP3-AGe1C1-R1        </td><td>R1.RandomSequences        </td><td>1</td><td></td><td></td><td></td><td></td><td>/home/shk/Schreibtisch/shk_jose/data/SEP3-AGe1C1-R1.fastq                                 </td></tr>\n",
       "\t<tr><th scope=row>2</th><td>SEP3-AGe1C1-R2        </td><td>R2.RandomSequences        </td><td>2</td><td></td><td></td><td></td><td></td><td>/home/shk/Schreibtisch/shk_jose/data/SEP3-AGe1C1-R2.fastq                                 </td></tr>\n",
       "\t<tr><th scope=row>3</th><td>SEP3-AGe1C1-R3        </td><td>R3.RandomSequences        </td><td>3</td><td></td><td></td><td></td><td></td><td>/home/shk/Schreibtisch/shk_jose/data/SEP3-AGe1C1-R3.fastq                                 </td></tr>\n",
       "</tbody>\n",
       "</table>\n"
      ],
      "text/latex": [
       "A data.frame: 6 × 8\n",
       "\\begin{tabular}{r|llllllll}\n",
       "  & seqName & sampleName & rounds & leftBarcode & rightBarcode & leftFlank & rightFlank & seqFile\\\\\n",
       "  & <chr> & <chr> & <int> & <chr> & <chr> & <chr> & <chr> & <chr>\\\\\n",
       "\\hline\n",
       "\t1 & SEP3-AGe1C1-R0         & R0.RandomSequences         & 0 &  &  &  &  & /home/shk/Schreibtisch/shk\\_jose/data/SEP3-AGe1C1-R0.fastq                                 \\\\\n",
       "\t6 & SEP3-AGe1C1-R0.split.1 & R0.RandomSequences.split.1 & 0 &  &  &  &  & /home/shk/Schreibtisch/shk\\_jose/./cache//SEP3-AGe1C1-R0.R0.RandomSequences.0\\_split//0.part\\\\\n",
       "\t5 & SEP3-AGe1C1-R0.split.2 & R0.RandomSequences.split.2 & 0 &  &  &  &  & /home/shk/Schreibtisch/shk\\_jose/./cache//SEP3-AGe1C1-R0.R0.RandomSequences.0\\_split//1.part\\\\\n",
       "\t4 & SEP3-AGe1C1-R1         & R1.RandomSequences         & 1 &  &  &  &  & /home/shk/Schreibtisch/shk\\_jose/data/SEP3-AGe1C1-R1.fastq                                 \\\\\n",
       "\t2 & SEP3-AGe1C1-R2         & R2.RandomSequences         & 2 &  &  &  &  & /home/shk/Schreibtisch/shk\\_jose/data/SEP3-AGe1C1-R2.fastq                                 \\\\\n",
       "\t3 & SEP3-AGe1C1-R3         & R3.RandomSequences         & 3 &  &  &  &  & /home/shk/Schreibtisch/shk\\_jose/data/SEP3-AGe1C1-R3.fastq                                 \\\\\n",
       "\\end{tabular}\n"
      ],
      "text/markdown": [
       "\n",
       "A data.frame: 6 × 8\n",
       "\n",
       "| <!--/--> | seqName &lt;chr&gt; | sampleName &lt;chr&gt; | rounds &lt;int&gt; | leftBarcode &lt;chr&gt; | rightBarcode &lt;chr&gt; | leftFlank &lt;chr&gt; | rightFlank &lt;chr&gt; | seqFile &lt;chr&gt; |\n",
       "|---|---|---|---|---|---|---|---|---|\n",
       "| 1 | SEP3-AGe1C1-R0         | R0.RandomSequences         | 0 | <!----> | <!----> | <!----> | <!----> | /home/shk/Schreibtisch/shk_jose/data/SEP3-AGe1C1-R0.fastq                                  |\n",
       "| 6 | SEP3-AGe1C1-R0.split.1 | R0.RandomSequences.split.1 | 0 | <!----> | <!----> | <!----> | <!----> | /home/shk/Schreibtisch/shk_jose/./cache//SEP3-AGe1C1-R0.R0.RandomSequences.0_split//0.part |\n",
       "| 5 | SEP3-AGe1C1-R0.split.2 | R0.RandomSequences.split.2 | 0 | <!----> | <!----> | <!----> | <!----> | /home/shk/Schreibtisch/shk_jose/./cache//SEP3-AGe1C1-R0.R0.RandomSequences.0_split//1.part |\n",
       "| 4 | SEP3-AGe1C1-R1         | R1.RandomSequences         | 1 | <!----> | <!----> | <!----> | <!----> | /home/shk/Schreibtisch/shk_jose/data/SEP3-AGe1C1-R1.fastq                                  |\n",
       "| 2 | SEP3-AGe1C1-R2         | R2.RandomSequences         | 2 | <!----> | <!----> | <!----> | <!----> | /home/shk/Schreibtisch/shk_jose/data/SEP3-AGe1C1-R2.fastq                                  |\n",
       "| 3 | SEP3-AGe1C1-R3         | R3.RandomSequences         | 3 | <!----> | <!----> | <!----> | <!----> | /home/shk/Schreibtisch/shk_jose/data/SEP3-AGe1C1-R3.fastq                                  |\n",
       "\n"
      ],
      "text/plain": [
       "  seqName                sampleName                 rounds leftBarcode\n",
       "1 SEP3-AGe1C1-R0         R0.RandomSequences         0                 \n",
       "6 SEP3-AGe1C1-R0.split.1 R0.RandomSequences.split.1 0                 \n",
       "5 SEP3-AGe1C1-R0.split.2 R0.RandomSequences.split.2 0                 \n",
       "4 SEP3-AGe1C1-R1         R1.RandomSequences         1                 \n",
       "2 SEP3-AGe1C1-R2         R2.RandomSequences         2                 \n",
       "3 SEP3-AGe1C1-R3         R3.RandomSequences         3                 \n",
       "  rightBarcode leftFlank rightFlank\n",
       "1                                  \n",
       "6                                  \n",
       "5                                  \n",
       "4                                  \n",
       "2                                  \n",
       "3                                  \n",
       "  seqFile                                                                                   \n",
       "1 /home/shk/Schreibtisch/shk_jose/data/SEP3-AGe1C1-R0.fastq                                 \n",
       "6 /home/shk/Schreibtisch/shk_jose/./cache//SEP3-AGe1C1-R0.R0.RandomSequences.0_split//0.part\n",
       "5 /home/shk/Schreibtisch/shk_jose/./cache//SEP3-AGe1C1-R0.R0.RandomSequences.0_split//1.part\n",
       "4 /home/shk/Schreibtisch/shk_jose/data/SEP3-AGe1C1-R1.fastq                                 \n",
       "2 /home/shk/Schreibtisch/shk_jose/data/SEP3-AGe1C1-R2.fastq                                 \n",
       "3 /home/shk/Schreibtisch/shk_jose/data/SEP3-AGe1C1-R3.fastq                                 "
      ]
     },
     "metadata": {},
     "output_type": "display_data"
    }
   ],
   "source": [
    "selex.sampleSummary()"
   ]
  },
  {
   "cell_type": "markdown",
   "metadata": {},
   "source": [
    "# 3. Analysis\n",
    "\n",
    "<div class=\"alert alert-block alert-warning\">\n",
    "    \n",
    "Indicate **which round is to be analyzed**, always in comparison to round zero (R0). Store the handle in the variable \"Round2BAnalyzed\" (the same name by which SELEX addresses the sample) and store the name as a string (required for saving the output).\n",
    "    \n",
    "</div>"
   ]
  },
  {
   "cell_type": "code",
   "execution_count": 40,
   "metadata": {},
   "outputs": [],
   "source": [
    "Round2BAnalyzed = r3\n",
    "RoundName = 'R3'"
   ]
  },
  {
   "cell_type": "markdown",
   "metadata": {},
   "source": [
    "## Markov model\n",
    "\n",
    "Even though random sequences of DNA are used, the frequency with which they occur is not completely free of bias - i.e. not all random sequences are equally likely to be found.\n",
    "\n",
    "The SELEX method uses a Markov model to predict the number of occurences of each possible k-mer in round zero (R0).\n",
    "\n",
    "### 3.1 Count $k_{max}$\n",
    "\n",
    "Find the maximal nucleotide length $k_{max}$ such that all sequences of that length $k_{max}$ appear at least $n$ times in the data, where $n$ is the threshold value (default: 100). \n",
    "\n",
    "The model will be fitted to sequences of length $k_{max}$, all other sequences will be neglected for the purpose of fitting the Markov Model. Therefore, it is important that $n$ be large enough to allow for a statistically sound fit. "
   ]
  },
  {
   "cell_type": "code",
   "execution_count": 20,
   "metadata": {},
   "outputs": [
    {
     "name": "stdout",
     "output_type": "stream",
     "text": [
      "Counting [SEP3-AGe1C1-R0.split.2.R0.RandomSequences.split.2.0][ K = 1 ]\n",
      "Counting [SEP3-AGe1C1-R0.split.2.R0.RandomSequences.split.2.0][ K = 2 ]\n",
      "Counting [SEP3-AGe1C1-R0.split.2.R0.RandomSequences.split.2.0][ K = 3 ]\n",
      "Counting [SEP3-AGe1C1-R0.split.2.R0.RandomSequences.split.2.0][ K = 4 ]\n",
      "Counting [SEP3-AGe1C1-R0.split.2.R0.RandomSequences.split.2.0][ K = 5 ]\n",
      "Counting [SEP3-AGe1C1-R0.split.2.R0.RandomSequences.split.2.0][ K = 6 ]\n",
      "Counting [SEP3-AGe1C1-R0.split.2.R0.RandomSequences.split.2.0][ K = 7 ]\n",
      "[ sample id : SEP3-AGe1C1-R0.split.2.R0.RandomSequences.split.2.0,  filter:  variableRegionIncludeRegex:null,variableRegionExcludeRegex:null,variableRegionGroupRegex:null ]\n",
      "[ SEP3-AGe1C1-R0.split.2.R0.RandomSequences.split.2.0.kmax = 6 ]\n"
     ]
    }
   ],
   "source": [
    "# Find the longest length k such that all possible k-mers are found at least 100 times\n",
    "kmax.value = selex.kmax(sample=r0.split$test, threshold=100, seqfilter=NULL)"
   ]
  },
  {
   "cell_type": "code",
   "execution_count": 21,
   "metadata": {},
   "outputs": [
    {
     "data": {
      "text/html": [
       "6"
      ],
      "text/latex": [
       "6"
      ],
      "text/markdown": [
       "6"
      ],
      "text/plain": [
       "[1] 6"
      ]
     },
     "metadata": {},
     "output_type": "display_data"
    }
   ],
   "source": [
    "kmax.value"
   ]
  },
  {
   "cell_type": "markdown",
   "metadata": {},
   "source": [
    "### 3.2 Create and store the Markov model"
   ]
  },
  {
   "cell_type": "markdown",
   "metadata": {},
   "source": [
    "Next, training and testing data as well as $k_{max}$ is passed to SELEX which creates and saves a Markov model. If the order is not specified, it will test Markov models of increasing order, selecting the optimal order.\n",
    "\n",
    "The order of the Markov model refers to the number of nucleotides considered when inferring the conditional occurence probabilities of subsequent nucleotides, e.g. P(A|GATTC) for a Markov model of the fifth order."
   ]
  },
  {
   "cell_type": "code",
   "execution_count": 22,
   "metadata": {},
   "outputs": [
    {
     "name": "stdout",
     "output_type": "stream",
     "text": [
      "Overwriting Kmax = 6\n",
      "Counting [SEP3-AGe1C1-R0.split.1.R0.RandomSequences.split.1.0][ K = 1 ]\n",
      "Counting [SEP3-AGe1C1-R0.split.1.R0.RandomSequences.split.1.0][ K = 2 ]\n",
      "Counting [SEP3-AGe1C1-R0.split.1.R0.RandomSequences.split.1.0][ K = 3 ]\n",
      "Counting [SEP3-AGe1C1-R0.split.1.R0.RandomSequences.split.1.0][ K = 4 ]\n",
      "Counting [SEP3-AGe1C1-R0.split.1.R0.RandomSequences.split.1.0][ K = 5 ]\n",
      "Counting [SEP3-AGe1C1-R0.split.1.R0.RandomSequences.split.1.0][ K = 6 ]\n",
      "[ markovLength = 5 ]\n",
      "[ maxR = 0.997453 ]\n",
      "[ Model = MarkovModelInfo [markovLength=5, markovLengthTotalCount=5914400, markovR2=0.9974534255596722, markovCountsPath=/home/shk/Schreibtisch/shk_jose/./cache//SEP3-AGe1C1-R0.split.1.R0.RandomSequences.split.1.0.5.dat_A7FE7F4E2E78A43F892C7F3227FFA520, markovObjPath=/home/shk/Schreibtisch/shk_jose/./cache//SEP3-AGe1C1-R0.split.1.R0.RandomSequences.split.1.0.5.dat_A7FE7F4E2E78A43F892C7F3227FFA520.prob.obj2, sample=config.ExperimentReference@455b6df1, markovModelMethod=DIVISION, crossValidationSample=config.ExperimentReference@71e9ddb4, filter=variableRegionIncludeRegex:null,variableRegionExcludeRegex:null,variableRegionGroupRegex:null,kmerIncludeRegex:null,kmerExcludeRegex:null,kmerIncludeOnly:null] ]\n"
     ]
    }
   ],
   "source": [
    "# Requires samples to be used for training and testing, as well as the k_max value.\n",
    "mm = selex.mm(sample=r0.split$train, order=NA, crossValidationSample=r0.split$test, Kmax=kmax.value)"
   ]
  },
  {
   "cell_type": "code",
   "execution_count": 23,
   "metadata": {},
   "outputs": [
    {
     "data": {
      "text/html": [
       "<table>\n",
       "<caption>A data.frame: 6 × 6</caption>\n",
       "<thead>\n",
       "\t<tr><th scope=col>Sample</th><th scope=col>Order</th><th scope=col>MarkovModelType</th><th scope=col>R</th><th scope=col>CVSample</th><th scope=col>CVLength</th></tr>\n",
       "\t<tr><th scope=col>&lt;chr&gt;</th><th scope=col>&lt;dbl&gt;</th><th scope=col>&lt;chr&gt;</th><th scope=col>&lt;dbl&gt;</th><th scope=col>&lt;chr&gt;</th><th scope=col>&lt;int&gt;</th></tr>\n",
       "</thead>\n",
       "<tbody>\n",
       "\t<tr><td>SEP3-AGe1C1-R0.split.1.R0.RandomSequences.split.1.0</td><td>0</td><td>DIVISION</td><td>0.9698371</td><td>SEP3-AGe1C1-R0.split.2.R0.RandomSequences.split.2.0</td><td>6</td></tr>\n",
       "\t<tr><td>SEP3-AGe1C1-R0.split.1.R0.RandomSequences.split.1.0</td><td>1</td><td>DIVISION</td><td>0.9886711</td><td>SEP3-AGe1C1-R0.split.2.R0.RandomSequences.split.2.0</td><td>6</td></tr>\n",
       "\t<tr><td>SEP3-AGe1C1-R0.split.1.R0.RandomSequences.split.1.0</td><td>2</td><td>DIVISION</td><td>0.9947389</td><td>SEP3-AGe1C1-R0.split.2.R0.RandomSequences.split.2.0</td><td>6</td></tr>\n",
       "\t<tr><td>SEP3-AGe1C1-R0.split.1.R0.RandomSequences.split.1.0</td><td>3</td><td>DIVISION</td><td>0.9966505</td><td>SEP3-AGe1C1-R0.split.2.R0.RandomSequences.split.2.0</td><td>6</td></tr>\n",
       "\t<tr><td>SEP3-AGe1C1-R0.split.1.R0.RandomSequences.split.1.0</td><td>4</td><td>DIVISION</td><td>0.9974534</td><td>SEP3-AGe1C1-R0.split.2.R0.RandomSequences.split.2.0</td><td>6</td></tr>\n",
       "\t<tr><td>SEP3-AGe1C1-R0.split.1.R0.RandomSequences.split.1.0</td><td>5</td><td>DIVISION</td><td>0.9971954</td><td>SEP3-AGe1C1-R0.split.2.R0.RandomSequences.split.2.0</td><td>6</td></tr>\n",
       "</tbody>\n",
       "</table>\n"
      ],
      "text/latex": [
       "A data.frame: 6 × 6\n",
       "\\begin{tabular}{llllll}\n",
       " Sample & Order & MarkovModelType & R & CVSample & CVLength\\\\\n",
       " <chr> & <dbl> & <chr> & <dbl> & <chr> & <int>\\\\\n",
       "\\hline\n",
       "\t SEP3-AGe1C1-R0.split.1.R0.RandomSequences.split.1.0 & 0 & DIVISION & 0.9698371 & SEP3-AGe1C1-R0.split.2.R0.RandomSequences.split.2.0 & 6\\\\\n",
       "\t SEP3-AGe1C1-R0.split.1.R0.RandomSequences.split.1.0 & 1 & DIVISION & 0.9886711 & SEP3-AGe1C1-R0.split.2.R0.RandomSequences.split.2.0 & 6\\\\\n",
       "\t SEP3-AGe1C1-R0.split.1.R0.RandomSequences.split.1.0 & 2 & DIVISION & 0.9947389 & SEP3-AGe1C1-R0.split.2.R0.RandomSequences.split.2.0 & 6\\\\\n",
       "\t SEP3-AGe1C1-R0.split.1.R0.RandomSequences.split.1.0 & 3 & DIVISION & 0.9966505 & SEP3-AGe1C1-R0.split.2.R0.RandomSequences.split.2.0 & 6\\\\\n",
       "\t SEP3-AGe1C1-R0.split.1.R0.RandomSequences.split.1.0 & 4 & DIVISION & 0.9974534 & SEP3-AGe1C1-R0.split.2.R0.RandomSequences.split.2.0 & 6\\\\\n",
       "\t SEP3-AGe1C1-R0.split.1.R0.RandomSequences.split.1.0 & 5 & DIVISION & 0.9971954 & SEP3-AGe1C1-R0.split.2.R0.RandomSequences.split.2.0 & 6\\\\\n",
       "\\end{tabular}\n"
      ],
      "text/markdown": [
       "\n",
       "A data.frame: 6 × 6\n",
       "\n",
       "| Sample &lt;chr&gt; | Order &lt;dbl&gt; | MarkovModelType &lt;chr&gt; | R &lt;dbl&gt; | CVSample &lt;chr&gt; | CVLength &lt;int&gt; |\n",
       "|---|---|---|---|---|---|\n",
       "| SEP3-AGe1C1-R0.split.1.R0.RandomSequences.split.1.0 | 0 | DIVISION | 0.9698371 | SEP3-AGe1C1-R0.split.2.R0.RandomSequences.split.2.0 | 6 |\n",
       "| SEP3-AGe1C1-R0.split.1.R0.RandomSequences.split.1.0 | 1 | DIVISION | 0.9886711 | SEP3-AGe1C1-R0.split.2.R0.RandomSequences.split.2.0 | 6 |\n",
       "| SEP3-AGe1C1-R0.split.1.R0.RandomSequences.split.1.0 | 2 | DIVISION | 0.9947389 | SEP3-AGe1C1-R0.split.2.R0.RandomSequences.split.2.0 | 6 |\n",
       "| SEP3-AGe1C1-R0.split.1.R0.RandomSequences.split.1.0 | 3 | DIVISION | 0.9966505 | SEP3-AGe1C1-R0.split.2.R0.RandomSequences.split.2.0 | 6 |\n",
       "| SEP3-AGe1C1-R0.split.1.R0.RandomSequences.split.1.0 | 4 | DIVISION | 0.9974534 | SEP3-AGe1C1-R0.split.2.R0.RandomSequences.split.2.0 | 6 |\n",
       "| SEP3-AGe1C1-R0.split.1.R0.RandomSequences.split.1.0 | 5 | DIVISION | 0.9971954 | SEP3-AGe1C1-R0.split.2.R0.RandomSequences.split.2.0 | 6 |\n",
       "\n"
      ],
      "text/plain": [
       "  Sample                                              Order MarkovModelType\n",
       "1 SEP3-AGe1C1-R0.split.1.R0.RandomSequences.split.1.0 0     DIVISION       \n",
       "2 SEP3-AGe1C1-R0.split.1.R0.RandomSequences.split.1.0 1     DIVISION       \n",
       "3 SEP3-AGe1C1-R0.split.1.R0.RandomSequences.split.1.0 2     DIVISION       \n",
       "4 SEP3-AGe1C1-R0.split.1.R0.RandomSequences.split.1.0 3     DIVISION       \n",
       "5 SEP3-AGe1C1-R0.split.1.R0.RandomSequences.split.1.0 4     DIVISION       \n",
       "6 SEP3-AGe1C1-R0.split.1.R0.RandomSequences.split.1.0 5     DIVISION       \n",
       "  R         CVSample                                            CVLength\n",
       "1 0.9698371 SEP3-AGe1C1-R0.split.2.R0.RandomSequences.split.2.0 6       \n",
       "2 0.9886711 SEP3-AGe1C1-R0.split.2.R0.RandomSequences.split.2.0 6       \n",
       "3 0.9947389 SEP3-AGe1C1-R0.split.2.R0.RandomSequences.split.2.0 6       \n",
       "4 0.9966505 SEP3-AGe1C1-R0.split.2.R0.RandomSequences.split.2.0 6       \n",
       "5 0.9974534 SEP3-AGe1C1-R0.split.2.R0.RandomSequences.split.2.0 6       \n",
       "6 0.9971954 SEP3-AGe1C1-R0.split.2.R0.RandomSequences.split.2.0 6       "
      ]
     },
     "metadata": {},
     "output_type": "display_data"
    }
   ],
   "source": [
    "selex.mmSummary()"
   ]
  },
  {
   "cell_type": "markdown",
   "metadata": {},
   "source": [
    "### 3.3 Information gain and optimal length\n",
    "\n",
    "The last line printed is the maximal information gain. \n",
    "\n",
    "<div class=\"alert alert-block alert-danger\">\n",
    "    \n",
    "If the following line throws **this error**: \n",
    "    \n",
    ">Error in .jcall(\"RJavaTools\", \"Ljava/lang/Object;\", \"invokeMethod\", cl, : java.lang.OutOfMemoryError: Java heap space\n",
    "    \n",
    "It helps to delete the whole cache (working directory) and then restart the notebook (using the >> Button in the menu). \n",
    "\n",
    "</div>"
   ]
  },
  {
   "cell_type": "code",
   "execution_count": 24,
   "metadata": {},
   "outputs": [
    {
     "name": "stdout",
     "output_type": "stream",
     "text": [
      "Counting [InfoGain][ K = 5 ]\n",
      "Counting [InfoGain][ K = 6 ]\n",
      "Counting [InfoGain][ K = 7 ]\n",
      "Counting [InfoGain][ K = 8 ]\n",
      "Counting [InfoGain][ K = 9 ]\n",
      "Counting [InfoGain][ K = 10 ]\n",
      "Counting [InfoGain][ K = 11 ]\n",
      "Counting [InfoGain][ K = 12 ]\n",
      "Counting [InfoGain][ K = 13 ]\n",
      "Counting [InfoGain][ K = 14 ]\n",
      "Counting [InfoGain][ K = 15 ]\n",
      "Counting [InfoGain][ K = 16 ]\n"
     ]
    },
    {
     "data": {
      "text/html": [
       "1.5264084800517"
      ],
      "text/latex": [
       "1.5264084800517"
      ],
      "text/markdown": [
       "1.5264084800517"
      ],
      "text/plain": [
       "[1] 1.526408"
      ]
     },
     "metadata": {},
     "output_type": "display_data"
    }
   ],
   "source": [
    "selex.infogain(Round2BAnalyzed, markovModel=mm)"
   ]
  },
  {
   "cell_type": "markdown",
   "metadata": {},
   "source": [
    "Check which value of k corresponds to the maximal information gain: "
   ]
  },
  {
   "cell_type": "code",
   "execution_count": 25,
   "metadata": {},
   "outputs": [
    {
     "data": {
      "text/html": [
       "<table>\n",
       "<caption>A data.frame: 10 × 5</caption>\n",
       "<thead>\n",
       "\t<tr><th scope=col>Sample</th><th scope=col>K</th><th scope=col>InformationGain</th><th scope=col>MarkovModel</th><th scope=col>MarkovModelType</th></tr>\n",
       "\t<tr><th scope=col>&lt;chr&gt;</th><th scope=col>&lt;int&gt;</th><th scope=col>&lt;dbl&gt;</th><th scope=col>&lt;chr&gt;</th><th scope=col>&lt;chr&gt;</th></tr>\n",
       "</thead>\n",
       "<tbody>\n",
       "\t<tr><td>SEP3-AGe1C1-R2.R2.RandomSequences.2</td><td> 5</td><td>0.3477520</td><td>SEP3-AGe1C1-R0.split.1.R0.RandomSequences.split.1.0.Order4</td><td>DIVISION</td></tr>\n",
       "\t<tr><td>SEP3-AGe1C1-R2.R2.RandomSequences.2</td><td> 6</td><td>0.5562881</td><td>SEP3-AGe1C1-R0.split.1.R0.RandomSequences.split.1.0.Order4</td><td>DIVISION</td></tr>\n",
       "\t<tr><td>SEP3-AGe1C1-R2.R2.RandomSequences.2</td><td> 7</td><td>0.8288981</td><td>SEP3-AGe1C1-R0.split.1.R0.RandomSequences.split.1.0.Order4</td><td>DIVISION</td></tr>\n",
       "\t<tr><td>SEP3-AGe1C1-R2.R2.RandomSequences.2</td><td> 8</td><td>1.1434254</td><td>SEP3-AGe1C1-R0.split.1.R0.RandomSequences.split.1.0.Order4</td><td>DIVISION</td></tr>\n",
       "\t<tr><td>SEP3-AGe1C1-R2.R2.RandomSequences.2</td><td> 9</td><td>1.4183313</td><td>SEP3-AGe1C1-R0.split.1.R0.RandomSequences.split.1.0.Order4</td><td>DIVISION</td></tr>\n",
       "\t<tr><td>SEP3-AGe1C1-R2.R2.RandomSequences.2</td><td>10</td><td>1.5264085</td><td>SEP3-AGe1C1-R0.split.1.R0.RandomSequences.split.1.0.Order4</td><td>DIVISION</td></tr>\n",
       "\t<tr><td>SEP3-AGe1C1-R2.R2.RandomSequences.2</td><td>11</td><td>1.3981736</td><td>SEP3-AGe1C1-R0.split.1.R0.RandomSequences.split.1.0.Order4</td><td>DIVISION</td></tr>\n",
       "\t<tr><td>SEP3-AGe1C1-R2.R2.RandomSequences.2</td><td>12</td><td>1.0429063</td><td>SEP3-AGe1C1-R0.split.1.R0.RandomSequences.split.1.0.Order4</td><td>DIVISION</td></tr>\n",
       "\t<tr><td>SEP3-AGe1C1-R2.R2.RandomSequences.2</td><td>13</td><td>0.5486344</td><td>SEP3-AGe1C1-R0.split.1.R0.RandomSequences.split.1.0.Order4</td><td>DIVISION</td></tr>\n",
       "\t<tr><td>SEP3-AGe1C1-R2.R2.RandomSequences.2</td><td>16</td><td>0.0000000</td><td>SEP3-AGe1C1-R0.split.1.R0.RandomSequences.split.1.0.Order4</td><td>DIVISION</td></tr>\n",
       "</tbody>\n",
       "</table>\n"
      ],
      "text/latex": [
       "A data.frame: 10 × 5\n",
       "\\begin{tabular}{lllll}\n",
       " Sample & K & InformationGain & MarkovModel & MarkovModelType\\\\\n",
       " <chr> & <int> & <dbl> & <chr> & <chr>\\\\\n",
       "\\hline\n",
       "\t SEP3-AGe1C1-R2.R2.RandomSequences.2 &  5 & 0.3477520 & SEP3-AGe1C1-R0.split.1.R0.RandomSequences.split.1.0.Order4 & DIVISION\\\\\n",
       "\t SEP3-AGe1C1-R2.R2.RandomSequences.2 &  6 & 0.5562881 & SEP3-AGe1C1-R0.split.1.R0.RandomSequences.split.1.0.Order4 & DIVISION\\\\\n",
       "\t SEP3-AGe1C1-R2.R2.RandomSequences.2 &  7 & 0.8288981 & SEP3-AGe1C1-R0.split.1.R0.RandomSequences.split.1.0.Order4 & DIVISION\\\\\n",
       "\t SEP3-AGe1C1-R2.R2.RandomSequences.2 &  8 & 1.1434254 & SEP3-AGe1C1-R0.split.1.R0.RandomSequences.split.1.0.Order4 & DIVISION\\\\\n",
       "\t SEP3-AGe1C1-R2.R2.RandomSequences.2 &  9 & 1.4183313 & SEP3-AGe1C1-R0.split.1.R0.RandomSequences.split.1.0.Order4 & DIVISION\\\\\n",
       "\t SEP3-AGe1C1-R2.R2.RandomSequences.2 & 10 & 1.5264085 & SEP3-AGe1C1-R0.split.1.R0.RandomSequences.split.1.0.Order4 & DIVISION\\\\\n",
       "\t SEP3-AGe1C1-R2.R2.RandomSequences.2 & 11 & 1.3981736 & SEP3-AGe1C1-R0.split.1.R0.RandomSequences.split.1.0.Order4 & DIVISION\\\\\n",
       "\t SEP3-AGe1C1-R2.R2.RandomSequences.2 & 12 & 1.0429063 & SEP3-AGe1C1-R0.split.1.R0.RandomSequences.split.1.0.Order4 & DIVISION\\\\\n",
       "\t SEP3-AGe1C1-R2.R2.RandomSequences.2 & 13 & 0.5486344 & SEP3-AGe1C1-R0.split.1.R0.RandomSequences.split.1.0.Order4 & DIVISION\\\\\n",
       "\t SEP3-AGe1C1-R2.R2.RandomSequences.2 & 16 & 0.0000000 & SEP3-AGe1C1-R0.split.1.R0.RandomSequences.split.1.0.Order4 & DIVISION\\\\\n",
       "\\end{tabular}\n"
      ],
      "text/markdown": [
       "\n",
       "A data.frame: 10 × 5\n",
       "\n",
       "| Sample &lt;chr&gt; | K &lt;int&gt; | InformationGain &lt;dbl&gt; | MarkovModel &lt;chr&gt; | MarkovModelType &lt;chr&gt; |\n",
       "|---|---|---|---|---|\n",
       "| SEP3-AGe1C1-R2.R2.RandomSequences.2 |  5 | 0.3477520 | SEP3-AGe1C1-R0.split.1.R0.RandomSequences.split.1.0.Order4 | DIVISION |\n",
       "| SEP3-AGe1C1-R2.R2.RandomSequences.2 |  6 | 0.5562881 | SEP3-AGe1C1-R0.split.1.R0.RandomSequences.split.1.0.Order4 | DIVISION |\n",
       "| SEP3-AGe1C1-R2.R2.RandomSequences.2 |  7 | 0.8288981 | SEP3-AGe1C1-R0.split.1.R0.RandomSequences.split.1.0.Order4 | DIVISION |\n",
       "| SEP3-AGe1C1-R2.R2.RandomSequences.2 |  8 | 1.1434254 | SEP3-AGe1C1-R0.split.1.R0.RandomSequences.split.1.0.Order4 | DIVISION |\n",
       "| SEP3-AGe1C1-R2.R2.RandomSequences.2 |  9 | 1.4183313 | SEP3-AGe1C1-R0.split.1.R0.RandomSequences.split.1.0.Order4 | DIVISION |\n",
       "| SEP3-AGe1C1-R2.R2.RandomSequences.2 | 10 | 1.5264085 | SEP3-AGe1C1-R0.split.1.R0.RandomSequences.split.1.0.Order4 | DIVISION |\n",
       "| SEP3-AGe1C1-R2.R2.RandomSequences.2 | 11 | 1.3981736 | SEP3-AGe1C1-R0.split.1.R0.RandomSequences.split.1.0.Order4 | DIVISION |\n",
       "| SEP3-AGe1C1-R2.R2.RandomSequences.2 | 12 | 1.0429063 | SEP3-AGe1C1-R0.split.1.R0.RandomSequences.split.1.0.Order4 | DIVISION |\n",
       "| SEP3-AGe1C1-R2.R2.RandomSequences.2 | 13 | 0.5486344 | SEP3-AGe1C1-R0.split.1.R0.RandomSequences.split.1.0.Order4 | DIVISION |\n",
       "| SEP3-AGe1C1-R2.R2.RandomSequences.2 | 16 | 0.0000000 | SEP3-AGe1C1-R0.split.1.R0.RandomSequences.split.1.0.Order4 | DIVISION |\n",
       "\n"
      ],
      "text/plain": [
       "   Sample                              K  InformationGain\n",
       "1  SEP3-AGe1C1-R2.R2.RandomSequences.2  5 0.3477520      \n",
       "2  SEP3-AGe1C1-R2.R2.RandomSequences.2  6 0.5562881      \n",
       "3  SEP3-AGe1C1-R2.R2.RandomSequences.2  7 0.8288981      \n",
       "4  SEP3-AGe1C1-R2.R2.RandomSequences.2  8 1.1434254      \n",
       "5  SEP3-AGe1C1-R2.R2.RandomSequences.2  9 1.4183313      \n",
       "6  SEP3-AGe1C1-R2.R2.RandomSequences.2 10 1.5264085      \n",
       "7  SEP3-AGe1C1-R2.R2.RandomSequences.2 11 1.3981736      \n",
       "8  SEP3-AGe1C1-R2.R2.RandomSequences.2 12 1.0429063      \n",
       "9  SEP3-AGe1C1-R2.R2.RandomSequences.2 13 0.5486344      \n",
       "10 SEP3-AGe1C1-R2.R2.RandomSequences.2 16 0.0000000      \n",
       "   MarkovModel                                                MarkovModelType\n",
       "1  SEP3-AGe1C1-R0.split.1.R0.RandomSequences.split.1.0.Order4 DIVISION       \n",
       "2  SEP3-AGe1C1-R0.split.1.R0.RandomSequences.split.1.0.Order4 DIVISION       \n",
       "3  SEP3-AGe1C1-R0.split.1.R0.RandomSequences.split.1.0.Order4 DIVISION       \n",
       "4  SEP3-AGe1C1-R0.split.1.R0.RandomSequences.split.1.0.Order4 DIVISION       \n",
       "5  SEP3-AGe1C1-R0.split.1.R0.RandomSequences.split.1.0.Order4 DIVISION       \n",
       "6  SEP3-AGe1C1-R0.split.1.R0.RandomSequences.split.1.0.Order4 DIVISION       \n",
       "7  SEP3-AGe1C1-R0.split.1.R0.RandomSequences.split.1.0.Order4 DIVISION       \n",
       "8  SEP3-AGe1C1-R0.split.1.R0.RandomSequences.split.1.0.Order4 DIVISION       \n",
       "9  SEP3-AGe1C1-R0.split.1.R0.RandomSequences.split.1.0.Order4 DIVISION       \n",
       "10 SEP3-AGe1C1-R0.split.1.R0.RandomSequences.split.1.0.Order4 DIVISION       "
      ]
     },
     "metadata": {},
     "output_type": "display_data"
    }
   ],
   "source": [
    "selex.infogainSummary()"
   ]
  },
  {
   "cell_type": "markdown",
   "metadata": {},
   "source": [
    "<div class=\"alert alert-block alert-warning\">\n",
    "\n",
    "The **optimal length** is the value of k for which the information gain is highest. Save that information in the variable below:\n",
    "    \n",
    "</div>"
   ]
  },
  {
   "cell_type": "code",
   "execution_count": 26,
   "metadata": {},
   "outputs": [],
   "source": [
    "optimalLength = 10"
   ]
  },
  {
   "cell_type": "markdown",
   "metadata": {},
   "source": [
    "Count how many times k-mers of optimal length appear: "
   ]
  },
  {
   "cell_type": "code",
   "execution_count": 33,
   "metadata": {},
   "outputs": [
    {
     "name": "stdout",
     "output_type": "stream",
     "text": [
      "Counting [SEP3-AGe1C1-R2.R2.RandomSequences.2][ K = 10 ]\n",
      "[ Lowest Count =  1 ]\n"
     ]
    }
   ],
   "source": [
    "table = selex.counts(sample=Round2BAnalyzed, k=optimalLength, markovModel=mm,minCount=10) "
   ]
  },
  {
   "cell_type": "code",
   "execution_count": 28,
   "metadata": {},
   "outputs": [
    {
     "data": {
      "text/html": [
       "<table>\n",
       "<caption>A data.frame: 6 × 4</caption>\n",
       "<thead>\n",
       "\t<tr><th></th><th scope=col>Kmer</th><th scope=col>ObservedCount</th><th scope=col>Probability</th><th scope=col>ExpectedCount</th></tr>\n",
       "\t<tr><th></th><th scope=col>&lt;chr&gt;</th><th scope=col>&lt;int&gt;</th><th scope=col>&lt;dbl&gt;</th><th scope=col>&lt;dbl&gt;</th></tr>\n",
       "</thead>\n",
       "<tbody>\n",
       "\t<tr><th scope=row>1</th><td>AAATAAGGAA</td><td>11740</td><td>5.313668e-06</td><td> 71.39581</td></tr>\n",
       "\t<tr><th scope=row>2</th><td>AAAAGAGGAA</td><td>10422</td><td>5.470747e-06</td><td> 73.50637</td></tr>\n",
       "\t<tr><th scope=row>3</th><td>AAAAAAGGAA</td><td> 9388</td><td>8.423538e-06</td><td>113.18082</td></tr>\n",
       "\t<tr><th scope=row>4</th><td>CAAATAAGGA</td><td> 9142</td><td>3.327236e-06</td><td> 44.70560</td></tr>\n",
       "\t<tr><th scope=row>5</th><td>ATTTAAGGAA</td><td> 8534</td><td>2.286702e-06</td><td> 30.72471</td></tr>\n",
       "\t<tr><th scope=row>6</th><td>CCAAATAAGG</td><td> 7988</td><td>2.426840e-06</td><td> 32.60764</td></tr>\n",
       "</tbody>\n",
       "</table>\n"
      ],
      "text/latex": [
       "A data.frame: 6 × 4\n",
       "\\begin{tabular}{r|llll}\n",
       "  & Kmer & ObservedCount & Probability & ExpectedCount\\\\\n",
       "  & <chr> & <int> & <dbl> & <dbl>\\\\\n",
       "\\hline\n",
       "\t1 & AAATAAGGAA & 11740 & 5.313668e-06 &  71.39581\\\\\n",
       "\t2 & AAAAGAGGAA & 10422 & 5.470747e-06 &  73.50637\\\\\n",
       "\t3 & AAAAAAGGAA &  9388 & 8.423538e-06 & 113.18082\\\\\n",
       "\t4 & CAAATAAGGA &  9142 & 3.327236e-06 &  44.70560\\\\\n",
       "\t5 & ATTTAAGGAA &  8534 & 2.286702e-06 &  30.72471\\\\\n",
       "\t6 & CCAAATAAGG &  7988 & 2.426840e-06 &  32.60764\\\\\n",
       "\\end{tabular}\n"
      ],
      "text/markdown": [
       "\n",
       "A data.frame: 6 × 4\n",
       "\n",
       "| <!--/--> | Kmer &lt;chr&gt; | ObservedCount &lt;int&gt; | Probability &lt;dbl&gt; | ExpectedCount &lt;dbl&gt; |\n",
       "|---|---|---|---|---|\n",
       "| 1 | AAATAAGGAA | 11740 | 5.313668e-06 |  71.39581 |\n",
       "| 2 | AAAAGAGGAA | 10422 | 5.470747e-06 |  73.50637 |\n",
       "| 3 | AAAAAAGGAA |  9388 | 8.423538e-06 | 113.18082 |\n",
       "| 4 | CAAATAAGGA |  9142 | 3.327236e-06 |  44.70560 |\n",
       "| 5 | ATTTAAGGAA |  8534 | 2.286702e-06 |  30.72471 |\n",
       "| 6 | CCAAATAAGG |  7988 | 2.426840e-06 |  32.60764 |\n",
       "\n"
      ],
      "text/plain": [
       "  Kmer       ObservedCount Probability  ExpectedCount\n",
       "1 AAATAAGGAA 11740         5.313668e-06  71.39581    \n",
       "2 AAAAGAGGAA 10422         5.470747e-06  73.50637    \n",
       "3 AAAAAAGGAA  9388         8.423538e-06 113.18082    \n",
       "4 CAAATAAGGA  9142         3.327236e-06  44.70560    \n",
       "5 ATTTAAGGAA  8534         2.286702e-06  30.72471    \n",
       "6 CCAAATAAGG  7988         2.426840e-06  32.60764    "
      ]
     },
     "metadata": {},
     "output_type": "display_data"
    }
   ],
   "source": [
    "head(table)"
   ]
  },
  {
   "cell_type": "markdown",
   "metadata": {},
   "source": [
    "### Calculating affinity and error\n",
    "\n",
    "Affinities are calculated for specific rounds, so the sample needs to be specified appropriately (i.e. enter r2 for round 2 or r3 for round 3, etc.)"
   ]
  },
  {
   "cell_type": "code",
   "execution_count": 34,
   "metadata": {},
   "outputs": [
    {
     "name": "stdout",
     "output_type": "stream",
     "text": [
      "Counting [SEP3-AGe1C1-R2.R2.RandomSequences.2][ K = 10 ]\n",
      "[ Lowest Count =  1 ]\n"
     ]
    }
   ],
   "source": [
    "aff = selex.affinities(sample=Round2BAnalyzed, k=optimalLength, markovModel=mm,minCount=10) "
   ]
  },
  {
   "cell_type": "code",
   "execution_count": 35,
   "metadata": {},
   "outputs": [
    {
     "data": {
      "text/html": [
       "<table>\n",
       "<caption>A data.frame: 6 × 6</caption>\n",
       "<thead>\n",
       "\t<tr><th></th><th scope=col>Kmer</th><th scope=col>ObservedCount</th><th scope=col>Probability</th><th scope=col>ExpectedCount</th><th scope=col>Affinity</th><th scope=col>SE</th></tr>\n",
       "\t<tr><th></th><th scope=col>&lt;chr&gt;</th><th scope=col>&lt;int&gt;</th><th scope=col>&lt;dbl&gt;</th><th scope=col>&lt;dbl&gt;</th><th scope=col>&lt;dbl&gt;</th><th scope=col>&lt;dbl&gt;</th></tr>\n",
       "</thead>\n",
       "<tbody>\n",
       "\t<tr><th scope=row>1</th><td>AAATAAGGAA</td><td>11740</td><td>5.313668e-06</td><td> 71.39581</td><td>0.4965242</td><td>0.006480692</td></tr>\n",
       "\t<tr><th scope=row>2</th><td>AAAAGAGGAA</td><td>10422</td><td>5.470747e-06</td><td> 73.50637</td><td>0.4610583</td><td>0.006386976</td></tr>\n",
       "\t<tr><th scope=row>3</th><td>AAAAAAGGAA</td><td> 9388</td><td>8.423538e-06</td><td>113.18082</td><td>0.3526492</td><td>0.005147204</td></tr>\n",
       "\t<tr><th scope=row>4</th><td>CAAATAAGGA</td><td> 9142</td><td>3.327236e-06</td><td> 44.70560</td><td>0.5537101</td><td>0.008189867</td></tr>\n",
       "\t<tr><th scope=row>5</th><td>ATTTAAGGAA</td><td> 8534</td><td>2.286702e-06</td><td> 30.72471</td><td>0.6453201</td><td>0.009879020</td></tr>\n",
       "\t<tr><th scope=row>6</th><td>CCAAATAAGG</td><td> 7988</td><td>2.426840e-06</td><td> 32.60764</td><td>0.6060411</td><td>0.009589547</td></tr>\n",
       "</tbody>\n",
       "</table>\n"
      ],
      "text/latex": [
       "A data.frame: 6 × 6\n",
       "\\begin{tabular}{r|llllll}\n",
       "  & Kmer & ObservedCount & Probability & ExpectedCount & Affinity & SE\\\\\n",
       "  & <chr> & <int> & <dbl> & <dbl> & <dbl> & <dbl>\\\\\n",
       "\\hline\n",
       "\t1 & AAATAAGGAA & 11740 & 5.313668e-06 &  71.39581 & 0.4965242 & 0.006480692\\\\\n",
       "\t2 & AAAAGAGGAA & 10422 & 5.470747e-06 &  73.50637 & 0.4610583 & 0.006386976\\\\\n",
       "\t3 & AAAAAAGGAA &  9388 & 8.423538e-06 & 113.18082 & 0.3526492 & 0.005147204\\\\\n",
       "\t4 & CAAATAAGGA &  9142 & 3.327236e-06 &  44.70560 & 0.5537101 & 0.008189867\\\\\n",
       "\t5 & ATTTAAGGAA &  8534 & 2.286702e-06 &  30.72471 & 0.6453201 & 0.009879020\\\\\n",
       "\t6 & CCAAATAAGG &  7988 & 2.426840e-06 &  32.60764 & 0.6060411 & 0.009589547\\\\\n",
       "\\end{tabular}\n"
      ],
      "text/markdown": [
       "\n",
       "A data.frame: 6 × 6\n",
       "\n",
       "| <!--/--> | Kmer &lt;chr&gt; | ObservedCount &lt;int&gt; | Probability &lt;dbl&gt; | ExpectedCount &lt;dbl&gt; | Affinity &lt;dbl&gt; | SE &lt;dbl&gt; |\n",
       "|---|---|---|---|---|---|---|\n",
       "| 1 | AAATAAGGAA | 11740 | 5.313668e-06 |  71.39581 | 0.4965242 | 0.006480692 |\n",
       "| 2 | AAAAGAGGAA | 10422 | 5.470747e-06 |  73.50637 | 0.4610583 | 0.006386976 |\n",
       "| 3 | AAAAAAGGAA |  9388 | 8.423538e-06 | 113.18082 | 0.3526492 | 0.005147204 |\n",
       "| 4 | CAAATAAGGA |  9142 | 3.327236e-06 |  44.70560 | 0.5537101 | 0.008189867 |\n",
       "| 5 | ATTTAAGGAA |  8534 | 2.286702e-06 |  30.72471 | 0.6453201 | 0.009879020 |\n",
       "| 6 | CCAAATAAGG |  7988 | 2.426840e-06 |  32.60764 | 0.6060411 | 0.009589547 |\n",
       "\n"
      ],
      "text/plain": [
       "  Kmer       ObservedCount Probability  ExpectedCount Affinity  SE         \n",
       "1 AAATAAGGAA 11740         5.313668e-06  71.39581     0.4965242 0.006480692\n",
       "2 AAAAGAGGAA 10422         5.470747e-06  73.50637     0.4610583 0.006386976\n",
       "3 AAAAAAGGAA  9388         8.423538e-06 113.18082     0.3526492 0.005147204\n",
       "4 CAAATAAGGA  9142         3.327236e-06  44.70560     0.5537101 0.008189867\n",
       "5 ATTTAAGGAA  8534         2.286702e-06  30.72471     0.6453201 0.009879020\n",
       "6 CCAAATAAGG  7988         2.426840e-06  32.60764     0.6060411 0.009589547"
      ]
     },
     "metadata": {},
     "output_type": "display_data"
    }
   ],
   "source": [
    "head(aff)"
   ]
  },
  {
   "cell_type": "markdown",
   "metadata": {},
   "source": [
    "### Save and export the affinities table"
   ]
  },
  {
   "cell_type": "code",
   "execution_count": 45,
   "metadata": {},
   "outputs": [
    {
     "data": {
      "text/html": [
       "'data/SEP3-AGe1C1_R2_affinities.csv'"
      ],
      "text/latex": [
       "'data/SEP3-AGe1C1\\_R2\\_affinities.csv'"
      ],
      "text/markdown": [
       "'data/SEP3-AGe1C1_R2_affinities.csv'"
      ],
      "text/plain": [
       "[1] \"data/SEP3-AGe1C1_R2_affinities.csv\""
      ]
     },
     "metadata": {},
     "output_type": "display_data"
    }
   ],
   "source": [
    "export_table_name = paste(paste('', pname, sep=''), RoundName, 'affinities.csv', sep='_')\n",
    "\n",
    "export_table_name"
   ]
  },
  {
   "cell_type": "code",
   "execution_count": 46,
   "metadata": {},
   "outputs": [],
   "source": [
    "write.csv(aff, export_table_name)"
   ]
  },
  {
   "cell_type": "markdown",
   "metadata": {},
   "source": [
    "<div class=\"alert alert-block alert-info\">\n",
    "\n",
    "# Instructions on how to download and import your own data set\n",
    "\n",
    "### Download\n",
    "\n",
    "#### Accessing data via the gene expression omnibus (GEO)\n",
    "\n",
    "Data sets can be found on GEO. (Learn more about GEO: https://www.ncbi.nlm.nih.gov/geo/info/faq.html#what)\n",
    "\n",
    "Data sets have a **GEO access code** leading to a page that lists information such as the specific extraction protocol and who to contact if you have questions about the data. One code for a data set of ours is **GSM2522798**, you can use this for the following steps if you want to familiarise yourself with them, or you can use any other access code for a dataset you wish to check. \n",
    "\n",
    "1. Go to the GEO start page: https://www.ncbi.nlm.nih.gov/geo/ and **enter the access code** in the search bar on the right. \n",
    "\n",
    "2. On the page this leads you to (example: https://www.ncbi.nlm.nih.gov/geo/query/acc.cgi?acc=GSM2522798), scroll all the way down and click on **the link next to \"SRA\"**, which takes you to a new page.\n",
    "\n",
    "3. Scroll down again, to the **table at the bottom with a cell called \"Run\"**. Click on the link given in the cell, it takes you to the *SRA page* for the data set. (View it here: https://trace.ncbi.nlm.nih.gov/Traces/sra/?run=SRR5314587 , SRA stands for *Sequence Read Archive*.) \n",
    "\n",
    "4. There are four tabs on the left, called *Metadata, Analysis, Reads and Data access*. Click on the **tab called Reads**, then click on \"Filtered Download\". \n",
    "\n",
    "5. For analysis with SELEX, select the **FASTQ format** and proceed to download the data set (bottom right). \n",
    "\n",
    "6. The data set is compressed - you need to unpack it. While you are at it, it is a good idea to change the name to something more descriptive than 'sra_data.fastq', which is the default. Here, I named it **SEP3-AGe1C1-R0.fastq**, which is the name of the sequence (GSM2522798 is the iD, both the name and the iD can be found on the SRA and GEO pages). \n",
    "\n",
    "#### What should this file look like? \n",
    "\n",
    "If you open such a data set with a text editor, you will see lines upon lines looking like this: \n",
    "\n",
    "@SRR5314587.1.1 HWUSI-EAS517:93:FC650FPAAXX:5:1:4588:1064 length=20\n",
    "\n",
    "TAGTACAATACGTGACGACA\n",
    "\n",
    "+SRR5314587.1.1 HWUSI-EAS517:93:FC650FPAAXX:5:1:4588:1064 length=20\n",
    "\n",
    "DDDBD7@@A@*B?BB?@B>C\n",
    "\n",
    "The first and third line contains the sequence iD and description. The *second line contains the sequence* and the *fourth line contains the quality of the sequence*. For more information, see: https://en.wikipedia.org/wiki/FASTQ_format\n",
    "\n",
    "#### Repeat the above steps to get the files for all SELEX rounds (R0 through to R2 or R3). Save all filepaths.\n",
    "\n",
    "For the above example, the other rounds have GEO iDs GSM2522799, GSM2522800, GSM2522801.\n",
    "\n",
    "### Metadata\n",
    "\n",
    "Before a **new data set** can be analyzed, it is necessary to pass some information about the data set to SELEX, so that the information contained in the data set can be correctly interpreted. This is done with the **function selex.defineSample**. Required parameters (they need to be given in the correct order): \n",
    "\n",
    "- seqName\n",
    "- seqFile\n",
    "- sampleName\n",
    "- round\n",
    "- varLength\n",
    "- leftBarcode\n",
    "- rightBarcode\n",
    "\n",
    "Detailed documentation can be found in the SELEX manual on page 10. \n",
    "\n",
    "In this case, for our sample (GSM2522798), the information is: \n",
    "\n",
    "- SEP3-AGe1C1-R0 (the name of the sample, GSM2522798 is the iD, both infos found in SRA or on GEO)\n",
    "- file path (specified above)\n",
    "- R0.RandomSequences\n",
    "- 0\n",
    "- 20 nt\n",
    "- no barcode - specify an empty string ('')\n",
    "- no barcode - specify an empty string ('')\n",
    "\n",
    "(For subsequent rounds, adjust names and values accordingly.)\n",
    "\n",
    "Since we cannot distinguish our training & metadata by barcodes, we split the file into two parts and import them separately. \n",
    "\n",
    "### Don´t want to do it again?\n",
    "\n",
    "There is also the option of creating an **annotation file** (XML). Instead of passing information about the data set each time, it is then sufficient to load the annotation file, using the function **selex.loadAnnotation**. \n",
    "\n",
    "To create the XML file, simply run **selex.saveAnnotation(filePath)**. It will save all the metadata passed to SELEX in the current session in an XML file. \n",
    "In this case, the file will contain the metadata for just one sequence, so the sequence name is an appropriate name for the xml file. \n",
    "(In this notebook, this step is performed in section 2.b).)\n",
    "    \n",
    "</div>"
   ]
  },
  {
   "cell_type": "code",
   "execution_count": null,
   "metadata": {},
   "outputs": [],
   "source": []
  }
 ],
 "metadata": {
  "kernelspec": {
   "display_name": "R",
   "language": "R",
   "name": "ir"
  },
  "language_info": {
   "codemirror_mode": "r",
   "file_extension": ".r",
   "mimetype": "text/x-r-source",
   "name": "R",
   "pygments_lexer": "r",
   "version": "3.6.1"
  }
 },
 "nbformat": 4,
 "nbformat_minor": 4
}
