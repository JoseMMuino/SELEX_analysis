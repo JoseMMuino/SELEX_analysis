{
 "cells": [
  {
   "cell_type": "markdown",
   "metadata": {},
   "source": [
    "<div class=\"alert alert-block alert-success\"> \n",
    "    \n",
    "# How to use this notebook\n",
    "    \n",
    "This notebook can perform all the steps required for data analysis of SELEX-seq data with the SELEX package. To use it, follow these steps: \n",
    "\n",
    "### 1. Input variables\n",
    "All file paths, file names and as well as information such as the variable length need to be **given as input variables** in the section indicated below. At the very end of this notebook there is a blue box giving detailed information on how to download and save data sets from the Gene Expression Omnibus, how to interpret the FASTQ files and how to save time by saving the metadata in an annotation file.\n",
    "    \n",
    "### 2. Setting up SELEX\n",
    "The next steps require **no input - just run the cells**. Appropriate settings are set and the data is imported properly such that the SELEX package 'knows' how to deal with and address the data you have provided. \n",
    "    \n",
    "### 3. Analysis\n",
    "This step requires one input - indicate the round that is to be compared to R0 for the calculation of the information gain and affinities.\n",
    "    \n",
    "</div>\n",
    "\n",
    "<div class=\"alert alert-block alert-warning\"> \n",
    "\n",
    "In the following, all sections requiring input are highlighted in yellow.\n",
    "    \n",
    "</div>"
   ]
  },
  {
   "cell_type": "markdown",
   "metadata": {},
   "source": [
    "<div class=\"alert alert-block alert-warning\">\n",
    "\n",
    "# 1. Input Variables\n",
    "    \n",
    "### Protein Name & Round names & Sample Name\n",
    "Indicate the name of the protein being analyzed, as a string. We will use this string to name samples and output data. Likewise, indicate the name of the sample sequences the protein is analyzed with.\n",
    "\n",
    "</div>"
   ]
  },
  {
   "cell_type": "code",
   "execution_count": null,
   "metadata": {},
   "outputs": [],
   "source": [
    "workdir=\"/home/jmuino/scratch/FlowerDevGroup/Peilin/TestJupyter\"           # working directory\n",
    "pname = 'FUL'                                        # name of the TF/protein to be analyzed"
   ]
  },
  {
   "cell_type": "markdown",
   "metadata": {},
   "source": [
    " <div class=\"alert alert-block alert-warning\">\n",
    "\n",
    "### File paths\n",
    "    \n",
    "\n",
    "The program neeed the filepath for the fasta/fastq files containing the seqeuncing of the DNA oligos for round 0 (r0_filepath) and one round of enrichment (r_filepath). The parameter round_en indicates which round is used in r_filepath (eg: round 4 of enrichment)\n",
    "    </div>"
   ]
  },
  {
   "cell_type": "code",
   "execution_count": null,
   "metadata": {},
   "outputs": [],
   "source": [
    "r0_filepath = 'data/FUL-FUL-R0_test.fastq.gz'\n",
    "r_filepath = 'data/FUL-FUL-R4_test.fastq.gz'\n",
    "round_en = 4   # it should be an integer"
   ]
  },
  {
   "cell_type": "markdown",
   "metadata": {},
   "source": [
    "<div class=\"alert alert-block alert-warning\">\n",
    "\n",
    "### Variable length, Left and Right Barcodes\n",
    "This is the length of the variable region of the nucleic acid snippets in the sample. If sequences are purely random with no defined left or right barcodes, the length of the variable region is equal to the length of the sequence.\n",
    "    \n",
    "</div>"
   ]
  },
  {
   "cell_type": "code",
   "execution_count": null,
   "metadata": {},
   "outputs": [],
   "source": [
    "variable_length = 20\n",
    "left_bc = ''\n",
    "right_bc = ''"
   ]
  },
  {
   "cell_type": "markdown",
   "metadata": {},
   "source": [
    "# 2.a) Required settings for SELEX"
   ]
  },
  {
   "cell_type": "code",
   "execution_count": null,
   "metadata": {},
   "outputs": [],
   "source": [
    "setwd(workdir)\n",
    "suppressMessages(require(SELEX))\n",
    "options(java.parameters=\"-Xmx2500M\")                # Set maximum memory usage limit\n",
    "tempDir = \"./cache/\"                                # Specify the temporal working directory\n",
    "unlink(file.path(path.expand(\"~\"), \"SELEX.properties\"))\n",
    "selex.config(workingDir=tempDir, maxThreadNumber=4) # Configure Selex with 4 maxThreadNumber\n"
   ]
  },
  {
   "cell_type": "markdown",
   "metadata": {},
   "source": [
    "The working directory contains the temporary files. The folder is created if it does not exist, everything in it is automatically kept track of and does not need to be read or addressed by a person. Once calculation is complete, the contents or even the whole folder can safely be deleted. "
   ]
  },
  {
   "cell_type": "markdown",
   "metadata": {},
   "source": [
    "# 2.b) Import your own data\n",
    "\n",
    "Detailed instructions for downloading data that is available on the GEO are given below, in the last cell in this notebook."
   ]
  },
  {
   "cell_type": "markdown",
   "metadata": {},
   "source": [
    "#### Define metadata\n",
    "\n",
    "This step is required to save metadata such as the filepath, barcodes and length of the variable region. This information is necessary for SELEX to interpret the data in subsequent steps. "
   ]
  },
  {
   "cell_type": "code",
   "execution_count": null,
   "metadata": {},
   "outputs": [],
   "source": [
    "rname=paste(\"R\",round_en,sep=\"\")\n",
    "sample_r0 = selex.defineSample(seqName = paste(pname, 'R0', sep='-'), seqFile = r0_filepath, \n",
    "                               sampleName = paste('R0', pname, sep='.'), round = 0, varLength = variable_length, \n",
    "                               leftBarcode = left_bc, rightBarcode = right_bc)\n",
    "\n",
    "sample_r = selex.defineSample(seqName = paste(pname, rname, sep='-'), seqFile = r_filepath, \n",
    "                               sampleName = paste(rname, pname, sep='.'), round = round_en, varLength = variable_length, \n",
    "                               leftBarcode = left_bc, rightBarcode = right_bc)\n"
   ]
  },
  {
   "cell_type": "markdown",
   "metadata": {},
   "source": [
    "#### Import the samples"
   ]
  },
  {
   "cell_type": "code",
   "execution_count": null,
   "metadata": {},
   "outputs": [],
   "source": [
    "r0 = selex.sample(seqName = paste(pname, 'R0', sep='-'), sampleName = paste('R0', pname, sep='.'), round = 0)\n",
    "\n",
    "Round2BAnalyzed = selex.sample(seqName = paste(pname, rname, sep='-'), sampleName = paste(rname, pname, sep='.'), round = round_en)\n"
   ]
  },
  {
   "cell_type": "markdown",
   "metadata": {},
   "source": [
    "#### Split the first sample into a training and a testing part\n",
    "\n",
    "Default ratio is 0.5 (i.e. half training and half testing data). "
   ]
  },
  {
   "cell_type": "code",
   "execution_count": null,
   "metadata": {},
   "outputs": [],
   "source": [
    "r0.split = selex.split(r0, ratio=c(0.5,0.5))"
   ]
  },
  {
   "cell_type": "markdown",
   "metadata": {},
   "source": [
    "#### View imported data"
   ]
  },
  {
   "cell_type": "code",
   "execution_count": null,
   "metadata": {},
   "outputs": [],
   "source": [
    "selex.sampleSummary()"
   ]
  },
  {
   "cell_type": "markdown",
   "metadata": {},
   "source": [
    "# 3. Analysis\n",
    "\n"
   ]
  },
  {
   "cell_type": "markdown",
   "metadata": {},
   "source": [
    "## Markov model\n",
    "\n",
    "Even though random sequences of DNA are used, the frequency with which they occur is not completely free of bias - i.e. not all random sequences are equally likely to be found.\n",
    "\n",
    "The SELEX method uses a Markov model to predict the number of occurences of each possible k-mer in round zero (R0).\n",
    "\n",
    "### 3.1 Count $k_{max}$\n",
    "\n",
    "Find the maximal nucleotide length $k_{max}$ such that all sequences of that length $k_{max}$ appear at least $n$ times in the data, where $n$ is the threshold value (default: 100). \n",
    "\n",
    "The model will be fitted to sequences of length $k_{max}$, all other sequences will be neglected for the purpose of fitting the Markov Model. Therefore, it is important that $n$ be large enough to allow for a statistically sound fit. "
   ]
  },
  {
   "cell_type": "code",
   "execution_count": null,
   "metadata": {},
   "outputs": [],
   "source": [
    "# Find the longest length k such that all possible k-mers are found at least 100 times\n",
    "kmax.value = selex.kmax(sample=r0.split$test, threshold=100, seqfilter=NULL)"
   ]
  },
  {
   "cell_type": "code",
   "execution_count": null,
   "metadata": {},
   "outputs": [],
   "source": [
    "#Kmax.value is the value of the adviced Kmer length\n",
    "kmax.value"
   ]
  },
  {
   "cell_type": "markdown",
   "metadata": {},
   "source": [
    "### 3.2 Create and store the Markov model"
   ]
  },
  {
   "cell_type": "markdown",
   "metadata": {},
   "source": [
    "Next, training and testing data as well as $k_{max}$ is passed to SELEX which creates and saves a Markov model. If the order is not specified, it will test Markov models of increasing order, selecting the optimal order.\n",
    "\n",
    "The order of the Markov model refers to the number of nucleotides considered when inferring the conditional occurence probabilities of subsequent nucleotides, e.g. P(A|GATTC) for a Markov model of the fifth order."
   ]
  },
  {
   "cell_type": "code",
   "execution_count": null,
   "metadata": {},
   "outputs": [],
   "source": [
    "# Requires samples to be used for training and testing, as well as the k_max value.\n",
    "mm = selex.mm(sample=r0.split$train, order=NA, crossValidationSample=r0.split$test, Kmax=kmax.value)"
   ]
  },
  {
   "cell_type": "code",
   "execution_count": null,
   "metadata": {},
   "outputs": [],
   "source": [
    "selex.mmSummary()"
   ]
  },
  {
   "cell_type": "markdown",
   "metadata": {},
   "source": [
    "### 3.3 Information gain and optimal length\n",
    "\n",
    "The last line printed is the maximal information gain. \n",
    "\n",
    "<div class=\"alert alert-block alert-danger\">\n",
    "    \n",
    "If the following line throws **this error**: \n",
    "    \n",
    ">Error in .jcall(\"RJavaTools\", \"Ljava/lang/Object;\", \"invokeMethod\", cl, : java.lang.OutOfMemoryError: Java heap space\n",
    "    \n",
    "It helps to delete the whole cache (working directory) and then restart the notebook (using the >> Button in the menu). \n",
    "\n",
    "</div>"
   ]
  },
  {
   "cell_type": "code",
   "execution_count": null,
   "metadata": {},
   "outputs": [],
   "source": [
    "selex.infogain(Round2BAnalyzed, markovModel=mm)"
   ]
  },
  {
   "cell_type": "markdown",
   "metadata": {},
   "source": [
    "Check which value of k corresponds to the maximal information gain: "
   ]
  },
  {
   "cell_type": "code",
   "execution_count": null,
   "metadata": {},
   "outputs": [],
   "source": [
    "sgain<-selex.infogainSummary();\n",
    "sgain"
   ]
  },
  {
   "cell_type": "markdown",
   "metadata": {},
   "source": [
    "<div class=\"alert alert-block alert-warning\">\n",
    "\n",
    "The **optimal length** is the value of k for which the information gain is highest. Save that information in the variable below:\n",
    "    \n",
    "</div>"
   ]
  },
  {
   "cell_type": "code",
   "execution_count": null,
   "metadata": {},
   "outputs": [],
   "source": [
    "optimalLength <- sgain$K[sgain$InformationGain==max(sgain$InformationGain)][1]"
   ]
  },
  {
   "cell_type": "markdown",
   "metadata": {},
   "source": [
    "Count how many times k-mers of optimal length appear: "
   ]
  },
  {
   "cell_type": "code",
   "execution_count": null,
   "metadata": {},
   "outputs": [],
   "source": [
    "table = selex.counts(sample=Round2BAnalyzed, k=optimalLength, markovModel=mm,minCount=10) \n",
    "head(table)"
   ]
  },
  {
   "cell_type": "markdown",
   "metadata": {},
   "source": [
    "### Calculating affinity and error\n",
    "\n",
    "Affinities are calculated for specific rounds, so the sample needs to be specified appropriately (i.e. enter r2 for round 2 or r3 for round 3, etc.)"
   ]
  },
  {
   "cell_type": "code",
   "execution_count": null,
   "metadata": {},
   "outputs": [],
   "source": [
    "aff = selex.affinities(sample=Round2BAnalyzed, k=optimalLength, markovModel=mm,minCount=10) "
   ]
  },
  {
   "cell_type": "code",
   "execution_count": null,
   "metadata": {},
   "outputs": [],
   "source": [
    "head(aff)"
   ]
  },
  {
   "cell_type": "markdown",
   "metadata": {},
   "source": [
    "### Save and export the affinities table"
   ]
  },
  {
   "cell_type": "code",
   "execution_count": null,
   "metadata": {},
   "outputs": [],
   "source": [
    "export_table_name = paste(paste('', pname, sep=''), rname, 'affinities.csv', sep='_')\n",
    "write.csv(aff, export_table_name)\n"
   ]
  },
  {
   "cell_type": "markdown",
   "metadata": {},
   "source": [
    "# Resources\n",
    "\n",
    "<div class=\"alert alert-block alert-info\"><b>Credit:</b> This notebook is adapted from the SELEX R package described in [Paper describing the SELEX-seq anaysis method][selex paper]: Cofactor binding evokes latent differences in DNA binding specificity between Hox proteins, Slattery et al., 2011.\n",
    "    \n",
    "[SELEX R package Manual][selex manual]</div>\n",
    "\n",
    "\n",
    "\n",
    "\n",
    "\n",
    "[selex example]: https://bioconductor.org/packages/release/bioc/vignettes/SELEX/inst/doc/SELEX.pdf\n",
    "[selex manual]: https://bioconductor.org/packages/release/bioc/manuals/SELEX/man/SELEX.pdf\n",
    "[selex paper]: https://www.ncbi.nlm.nih.gov/pmc/articles/PMC3319069/"
   ]
  }
 ],
 "metadata": {
  "kernelspec": {
   "display_name": "R",
   "language": "R",
   "name": "ir"
  },
  "language_info": {
   "codemirror_mode": "r",
   "file_extension": ".r",
   "mimetype": "text/x-r-source",
   "name": "R",
   "pygments_lexer": "r",
   "version": "3.6.1"
  }
 },
 "nbformat": 4,
 "nbformat_minor": 4
}
